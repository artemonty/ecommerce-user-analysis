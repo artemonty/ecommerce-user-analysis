{
 "cells": [
  {
   "cell_type": "markdown",
   "id": "41e92bfe-6eb8-4883-81c6-91cf59e6f8df",
   "metadata": {},
   "source": [
    "## 1. Загрузка и первичная обработка\n"
   ]
  },
  {
   "cell_type": "code",
   "execution_count": 1,
   "id": "c57f366603e469c",
   "metadata": {},
   "outputs": [],
   "source": [
    "import pandas as pd\n",
    "df = pd.read_csv(\"2019-Nov.csv\", nrows=20000000)\n",
    "\n"
   ]
  },
  {
   "cell_type": "code",
   "execution_count": 2,
   "id": "2594af53-8469-4f6e-b6d8-80963da9f6eb",
   "metadata": {},
   "outputs": [
    {
     "data": {
      "text/plain": [
       "(20000000, 9)"
      ]
     },
     "execution_count": 2,
     "metadata": {},
     "output_type": "execute_result"
    }
   ],
   "source": [
    "df.shape"
   ]
  },
  {
   "cell_type": "code",
   "execution_count": 3,
   "id": "3559aa49-6913-428c-ac0c-567ebbd50607",
   "metadata": {},
   "outputs": [
    {
     "data": {
      "text/html": [
       "<div>\n",
       "<style scoped>\n",
       "    .dataframe tbody tr th:only-of-type {\n",
       "        vertical-align: middle;\n",
       "    }\n",
       "\n",
       "    .dataframe tbody tr th {\n",
       "        vertical-align: top;\n",
       "    }\n",
       "\n",
       "    .dataframe thead th {\n",
       "        text-align: right;\n",
       "    }\n",
       "</style>\n",
       "<table border=\"1\" class=\"dataframe\">\n",
       "  <thead>\n",
       "    <tr style=\"text-align: right;\">\n",
       "      <th></th>\n",
       "      <th>event_time</th>\n",
       "      <th>event_type</th>\n",
       "      <th>product_id</th>\n",
       "      <th>category_id</th>\n",
       "      <th>category_code</th>\n",
       "      <th>brand</th>\n",
       "      <th>price</th>\n",
       "      <th>user_id</th>\n",
       "      <th>user_session</th>\n",
       "    </tr>\n",
       "  </thead>\n",
       "  <tbody>\n",
       "    <tr>\n",
       "      <th>0</th>\n",
       "      <td>2019-11-01 00:00:00 UTC</td>\n",
       "      <td>view</td>\n",
       "      <td>1003461</td>\n",
       "      <td>2053013555631882655</td>\n",
       "      <td>electronics.smartphone</td>\n",
       "      <td>xiaomi</td>\n",
       "      <td>489.07</td>\n",
       "      <td>520088904</td>\n",
       "      <td>4d3b30da-a5e4-49df-b1a8-ba5943f1dd33</td>\n",
       "    </tr>\n",
       "    <tr>\n",
       "      <th>1</th>\n",
       "      <td>2019-11-01 00:00:00 UTC</td>\n",
       "      <td>view</td>\n",
       "      <td>5000088</td>\n",
       "      <td>2053013566100866035</td>\n",
       "      <td>appliances.sewing_machine</td>\n",
       "      <td>janome</td>\n",
       "      <td>293.65</td>\n",
       "      <td>530496790</td>\n",
       "      <td>8e5f4f83-366c-4f70-860e-ca7417414283</td>\n",
       "    </tr>\n",
       "    <tr>\n",
       "      <th>2</th>\n",
       "      <td>2019-11-01 00:00:01 UTC</td>\n",
       "      <td>view</td>\n",
       "      <td>17302664</td>\n",
       "      <td>2053013553853497655</td>\n",
       "      <td>NaN</td>\n",
       "      <td>creed</td>\n",
       "      <td>28.31</td>\n",
       "      <td>561587266</td>\n",
       "      <td>755422e7-9040-477b-9bd2-6a6e8fd97387</td>\n",
       "    </tr>\n",
       "    <tr>\n",
       "      <th>3</th>\n",
       "      <td>2019-11-01 00:00:01 UTC</td>\n",
       "      <td>view</td>\n",
       "      <td>3601530</td>\n",
       "      <td>2053013563810775923</td>\n",
       "      <td>appliances.kitchen.washer</td>\n",
       "      <td>lg</td>\n",
       "      <td>712.87</td>\n",
       "      <td>518085591</td>\n",
       "      <td>3bfb58cd-7892-48cc-8020-2f17e6de6e7f</td>\n",
       "    </tr>\n",
       "    <tr>\n",
       "      <th>4</th>\n",
       "      <td>2019-11-01 00:00:01 UTC</td>\n",
       "      <td>view</td>\n",
       "      <td>1004775</td>\n",
       "      <td>2053013555631882655</td>\n",
       "      <td>electronics.smartphone</td>\n",
       "      <td>xiaomi</td>\n",
       "      <td>183.27</td>\n",
       "      <td>558856683</td>\n",
       "      <td>313628f1-68b8-460d-84f6-cec7a8796ef2</td>\n",
       "    </tr>\n",
       "  </tbody>\n",
       "</table>\n",
       "</div>"
      ],
      "text/plain": [
       "                event_time event_type  product_id          category_id  \\\n",
       "0  2019-11-01 00:00:00 UTC       view     1003461  2053013555631882655   \n",
       "1  2019-11-01 00:00:00 UTC       view     5000088  2053013566100866035   \n",
       "2  2019-11-01 00:00:01 UTC       view    17302664  2053013553853497655   \n",
       "3  2019-11-01 00:00:01 UTC       view     3601530  2053013563810775923   \n",
       "4  2019-11-01 00:00:01 UTC       view     1004775  2053013555631882655   \n",
       "\n",
       "               category_code   brand   price    user_id  \\\n",
       "0     electronics.smartphone  xiaomi  489.07  520088904   \n",
       "1  appliances.sewing_machine  janome  293.65  530496790   \n",
       "2                        NaN   creed   28.31  561587266   \n",
       "3  appliances.kitchen.washer      lg  712.87  518085591   \n",
       "4     electronics.smartphone  xiaomi  183.27  558856683   \n",
       "\n",
       "                           user_session  \n",
       "0  4d3b30da-a5e4-49df-b1a8-ba5943f1dd33  \n",
       "1  8e5f4f83-366c-4f70-860e-ca7417414283  \n",
       "2  755422e7-9040-477b-9bd2-6a6e8fd97387  \n",
       "3  3bfb58cd-7892-48cc-8020-2f17e6de6e7f  \n",
       "4  313628f1-68b8-460d-84f6-cec7a8796ef2  "
      ]
     },
     "execution_count": 3,
     "metadata": {},
     "output_type": "execute_result"
    }
   ],
   "source": [
    "df.head()"
   ]
  },
  {
   "cell_type": "code",
   "execution_count": 4,
   "id": "ab946908-ed8c-4b18-8d94-971072fc2946",
   "metadata": {},
   "outputs": [],
   "source": [
    "df['event_time'] = pd.to_datetime(df['event_time'])\n"
   ]
  },
  {
   "cell_type": "code",
   "execution_count": 5,
   "id": "fc4c148a-aab2-4247-91de-5a19c360baeb",
   "metadata": {},
   "outputs": [],
   "source": [
    "df = df.dropna(subset=['user_id'])\n"
   ]
  },
  {
   "cell_type": "code",
   "execution_count": 6,
   "id": "a9e11671-cb4f-4b42-9201-86de9cc3fbd7",
   "metadata": {},
   "outputs": [],
   "source": [
    "df = df[df['price'] > 0]\n"
   ]
  },
  {
   "cell_type": "code",
   "execution_count": 7,
   "id": "3efe457d-95da-4e25-adfd-e0db7858b557",
   "metadata": {},
   "outputs": [
    {
     "data": {
      "text/plain": [
       "event_type\n",
       "view        19239033\n",
       "cart          461978\n",
       "purchase      274627\n",
       "Name: count, dtype: int64"
      ]
     },
     "execution_count": 7,
     "metadata": {},
     "output_type": "execute_result"
    }
   ],
   "source": [
    "df['event_type'].value_counts()\n"
   ]
  },
  {
   "cell_type": "code",
   "execution_count": 8,
   "id": "7a0b82d3-aa95-4ec3-8fa4-3cd049841e9b",
   "metadata": {},
   "outputs": [
    {
     "name": "stdout",
     "output_type": "stream",
     "text": [
      "Уникальных пользователей: 1841301\n"
     ]
    }
   ],
   "source": [
    "print(\"Уникальных пользователей:\", df['user_id'].nunique())\n"
   ]
  },
  {
   "cell_type": "markdown",
   "id": "2400cbe3-841c-47be-9f79-a570df48cbbb",
   "metadata": {},
   "source": [
    "## 2. Retention-1 и A/B тест\n"
   ]
  },
  {
   "cell_type": "code",
   "execution_count": 9,
   "id": "15424d44-70b5-41d0-8d10-f74ad992b292",
   "metadata": {},
   "outputs": [],
   "source": [
    "first_event = df.groupby('user_id')['event_time'].min().reset_index()\n",
    "first_event.columns = ['user_id', 'first_event_time']\n",
    "\n",
    "df = df.merge(first_event, on='user_id')\n"
   ]
  },
  {
   "cell_type": "code",
   "execution_count": 10,
   "id": "b5d7d360-79ec-41ce-8e4e-721e3df2b223",
   "metadata": {},
   "outputs": [],
   "source": [
    "df['days_since_first'] = (df['event_time'] - df['first_event_time']).dt.days\n"
   ]
  },
  {
   "cell_type": "code",
   "execution_count": 11,
   "id": "92c62596-f55e-4e38-8961-5680630d034b",
   "metadata": {},
   "outputs": [
    {
     "data": {
      "text/html": [
       "<div>\n",
       "<style scoped>\n",
       "    .dataframe tbody tr th:only-of-type {\n",
       "        vertical-align: middle;\n",
       "    }\n",
       "\n",
       "    .dataframe tbody tr th {\n",
       "        vertical-align: top;\n",
       "    }\n",
       "\n",
       "    .dataframe thead th {\n",
       "        text-align: right;\n",
       "    }\n",
       "</style>\n",
       "<table border=\"1\" class=\"dataframe\">\n",
       "  <thead>\n",
       "    <tr style=\"text-align: right;\">\n",
       "      <th></th>\n",
       "      <th>event_time</th>\n",
       "      <th>event_type</th>\n",
       "      <th>product_id</th>\n",
       "      <th>category_id</th>\n",
       "      <th>category_code</th>\n",
       "      <th>brand</th>\n",
       "      <th>price</th>\n",
       "      <th>user_id</th>\n",
       "      <th>user_session</th>\n",
       "      <th>first_event_time</th>\n",
       "      <th>days_since_first</th>\n",
       "    </tr>\n",
       "  </thead>\n",
       "  <tbody>\n",
       "    <tr>\n",
       "      <th>0</th>\n",
       "      <td>2019-11-01 00:00:00+00:00</td>\n",
       "      <td>view</td>\n",
       "      <td>1003461</td>\n",
       "      <td>2053013555631882655</td>\n",
       "      <td>electronics.smartphone</td>\n",
       "      <td>xiaomi</td>\n",
       "      <td>489.07</td>\n",
       "      <td>520088904</td>\n",
       "      <td>4d3b30da-a5e4-49df-b1a8-ba5943f1dd33</td>\n",
       "      <td>2019-11-01 00:00:00+00:00</td>\n",
       "      <td>0</td>\n",
       "    </tr>\n",
       "    <tr>\n",
       "      <th>1</th>\n",
       "      <td>2019-11-01 00:00:00+00:00</td>\n",
       "      <td>view</td>\n",
       "      <td>5000088</td>\n",
       "      <td>2053013566100866035</td>\n",
       "      <td>appliances.sewing_machine</td>\n",
       "      <td>janome</td>\n",
       "      <td>293.65</td>\n",
       "      <td>530496790</td>\n",
       "      <td>8e5f4f83-366c-4f70-860e-ca7417414283</td>\n",
       "      <td>2019-11-01 00:00:00+00:00</td>\n",
       "      <td>0</td>\n",
       "    </tr>\n",
       "    <tr>\n",
       "      <th>2</th>\n",
       "      <td>2019-11-01 00:00:01+00:00</td>\n",
       "      <td>view</td>\n",
       "      <td>17302664</td>\n",
       "      <td>2053013553853497655</td>\n",
       "      <td>NaN</td>\n",
       "      <td>creed</td>\n",
       "      <td>28.31</td>\n",
       "      <td>561587266</td>\n",
       "      <td>755422e7-9040-477b-9bd2-6a6e8fd97387</td>\n",
       "      <td>2019-11-01 00:00:01+00:00</td>\n",
       "      <td>0</td>\n",
       "    </tr>\n",
       "    <tr>\n",
       "      <th>3</th>\n",
       "      <td>2019-11-01 00:00:01+00:00</td>\n",
       "      <td>view</td>\n",
       "      <td>3601530</td>\n",
       "      <td>2053013563810775923</td>\n",
       "      <td>appliances.kitchen.washer</td>\n",
       "      <td>lg</td>\n",
       "      <td>712.87</td>\n",
       "      <td>518085591</td>\n",
       "      <td>3bfb58cd-7892-48cc-8020-2f17e6de6e7f</td>\n",
       "      <td>2019-11-01 00:00:01+00:00</td>\n",
       "      <td>0</td>\n",
       "    </tr>\n",
       "    <tr>\n",
       "      <th>4</th>\n",
       "      <td>2019-11-01 00:00:01+00:00</td>\n",
       "      <td>view</td>\n",
       "      <td>1004775</td>\n",
       "      <td>2053013555631882655</td>\n",
       "      <td>electronics.smartphone</td>\n",
       "      <td>xiaomi</td>\n",
       "      <td>183.27</td>\n",
       "      <td>558856683</td>\n",
       "      <td>313628f1-68b8-460d-84f6-cec7a8796ef2</td>\n",
       "      <td>2019-11-01 00:00:01+00:00</td>\n",
       "      <td>0</td>\n",
       "    </tr>\n",
       "  </tbody>\n",
       "</table>\n",
       "</div>"
      ],
      "text/plain": [
       "                 event_time event_type  product_id          category_id  \\\n",
       "0 2019-11-01 00:00:00+00:00       view     1003461  2053013555631882655   \n",
       "1 2019-11-01 00:00:00+00:00       view     5000088  2053013566100866035   \n",
       "2 2019-11-01 00:00:01+00:00       view    17302664  2053013553853497655   \n",
       "3 2019-11-01 00:00:01+00:00       view     3601530  2053013563810775923   \n",
       "4 2019-11-01 00:00:01+00:00       view     1004775  2053013555631882655   \n",
       "\n",
       "               category_code   brand   price    user_id  \\\n",
       "0     electronics.smartphone  xiaomi  489.07  520088904   \n",
       "1  appliances.sewing_machine  janome  293.65  530496790   \n",
       "2                        NaN   creed   28.31  561587266   \n",
       "3  appliances.kitchen.washer      lg  712.87  518085591   \n",
       "4     electronics.smartphone  xiaomi  183.27  558856683   \n",
       "\n",
       "                           user_session          first_event_time  \\\n",
       "0  4d3b30da-a5e4-49df-b1a8-ba5943f1dd33 2019-11-01 00:00:00+00:00   \n",
       "1  8e5f4f83-366c-4f70-860e-ca7417414283 2019-11-01 00:00:00+00:00   \n",
       "2  755422e7-9040-477b-9bd2-6a6e8fd97387 2019-11-01 00:00:01+00:00   \n",
       "3  3bfb58cd-7892-48cc-8020-2f17e6de6e7f 2019-11-01 00:00:01+00:00   \n",
       "4  313628f1-68b8-460d-84f6-cec7a8796ef2 2019-11-01 00:00:01+00:00   \n",
       "\n",
       "   days_since_first  \n",
       "0                 0  \n",
       "1                 0  \n",
       "2                 0  \n",
       "3                 0  \n",
       "4                 0  "
      ]
     },
     "execution_count": 11,
     "metadata": {},
     "output_type": "execute_result"
    }
   ],
   "source": [
    "df.head()"
   ]
  },
  {
   "cell_type": "code",
   "execution_count": 12,
   "id": "9503b8ad-cf6d-441c-bea8-9cb775ae78b1",
   "metadata": {},
   "outputs": [],
   "source": [
    "df['ab_group'] = df['user_id'].apply(lambda x: 'A' if x % 2 == 0 else 'B')\n"
   ]
  },
  {
   "cell_type": "code",
   "execution_count": 13,
   "id": "76f95cfd-8e39-4bd1-aee6-af6227d3f75c",
   "metadata": {},
   "outputs": [
    {
     "data": {
      "text/html": [
       "<div>\n",
       "<style scoped>\n",
       "    .dataframe tbody tr th:only-of-type {\n",
       "        vertical-align: middle;\n",
       "    }\n",
       "\n",
       "    .dataframe tbody tr th {\n",
       "        vertical-align: top;\n",
       "    }\n",
       "\n",
       "    .dataframe thead th {\n",
       "        text-align: right;\n",
       "    }\n",
       "</style>\n",
       "<table border=\"1\" class=\"dataframe\">\n",
       "  <thead>\n",
       "    <tr style=\"text-align: right;\">\n",
       "      <th></th>\n",
       "      <th>user_id</th>\n",
       "      <th>first_event_time</th>\n",
       "      <th>event_time</th>\n",
       "      <th>days_since_first</th>\n",
       "      <th>ab_group</th>\n",
       "    </tr>\n",
       "  </thead>\n",
       "  <tbody>\n",
       "    <tr>\n",
       "      <th>0</th>\n",
       "      <td>520088904</td>\n",
       "      <td>2019-11-01 00:00:00+00:00</td>\n",
       "      <td>2019-11-01 00:00:00+00:00</td>\n",
       "      <td>0</td>\n",
       "      <td>A</td>\n",
       "    </tr>\n",
       "    <tr>\n",
       "      <th>1</th>\n",
       "      <td>530496790</td>\n",
       "      <td>2019-11-01 00:00:00+00:00</td>\n",
       "      <td>2019-11-01 00:00:00+00:00</td>\n",
       "      <td>0</td>\n",
       "      <td>A</td>\n",
       "    </tr>\n",
       "    <tr>\n",
       "      <th>2</th>\n",
       "      <td>561587266</td>\n",
       "      <td>2019-11-01 00:00:01+00:00</td>\n",
       "      <td>2019-11-01 00:00:01+00:00</td>\n",
       "      <td>0</td>\n",
       "      <td>A</td>\n",
       "    </tr>\n",
       "    <tr>\n",
       "      <th>3</th>\n",
       "      <td>518085591</td>\n",
       "      <td>2019-11-01 00:00:01+00:00</td>\n",
       "      <td>2019-11-01 00:00:01+00:00</td>\n",
       "      <td>0</td>\n",
       "      <td>B</td>\n",
       "    </tr>\n",
       "    <tr>\n",
       "      <th>4</th>\n",
       "      <td>558856683</td>\n",
       "      <td>2019-11-01 00:00:01+00:00</td>\n",
       "      <td>2019-11-01 00:00:01+00:00</td>\n",
       "      <td>0</td>\n",
       "      <td>B</td>\n",
       "    </tr>\n",
       "  </tbody>\n",
       "</table>\n",
       "</div>"
      ],
      "text/plain": [
       "     user_id          first_event_time                event_time  \\\n",
       "0  520088904 2019-11-01 00:00:00+00:00 2019-11-01 00:00:00+00:00   \n",
       "1  530496790 2019-11-01 00:00:00+00:00 2019-11-01 00:00:00+00:00   \n",
       "2  561587266 2019-11-01 00:00:01+00:00 2019-11-01 00:00:01+00:00   \n",
       "3  518085591 2019-11-01 00:00:01+00:00 2019-11-01 00:00:01+00:00   \n",
       "4  558856683 2019-11-01 00:00:01+00:00 2019-11-01 00:00:01+00:00   \n",
       "\n",
       "   days_since_first ab_group  \n",
       "0                 0        A  \n",
       "1                 0        A  \n",
       "2                 0        A  \n",
       "3                 0        B  \n",
       "4                 0        B  "
      ]
     },
     "execution_count": 13,
     "metadata": {},
     "output_type": "execute_result"
    }
   ],
   "source": [
    "df[['user_id', 'first_event_time', 'event_time', 'days_since_first', 'ab_group']].head()\n"
   ]
  },
  {
   "cell_type": "code",
   "execution_count": 14,
   "id": "00f28c81-58be-44b7-aefc-52a07f656241",
   "metadata": {},
   "outputs": [],
   "source": [
    "# Юзеры, пришедшие в первый день\n",
    "first_day_users = df[df['days_since_first'] == 0][['user_id', 'ab_group']].drop_duplicates()\n",
    "\n",
    "# Юзеры, вернувшиеся на следующий день\n",
    "returned_day_1 = df[df['days_since_first'] == 1][['user_id']].drop_duplicates()\n",
    "returned_day_1['retention_1'] = 1\n",
    "\n",
    "# Объединяем\n",
    "retention = first_day_users.merge(returned_day_1, on='user_id', how='left')\n",
    "retention['retention_1'] = retention['retention_1'].fillna(0)\n"
   ]
  },
  {
   "cell_type": "code",
   "execution_count": 15,
   "id": "f43168f9-3669-4299-8f71-1a86ba00e395",
   "metadata": {},
   "outputs": [
    {
     "data": {
      "text/html": [
       "<div>\n",
       "<style scoped>\n",
       "    .dataframe tbody tr th:only-of-type {\n",
       "        vertical-align: middle;\n",
       "    }\n",
       "\n",
       "    .dataframe tbody tr th {\n",
       "        vertical-align: top;\n",
       "    }\n",
       "\n",
       "    .dataframe thead th {\n",
       "        text-align: right;\n",
       "    }\n",
       "</style>\n",
       "<table border=\"1\" class=\"dataframe\">\n",
       "  <thead>\n",
       "    <tr style=\"text-align: right;\">\n",
       "      <th></th>\n",
       "      <th>ab_group</th>\n",
       "      <th>retention_rate</th>\n",
       "      <th>users</th>\n",
       "    </tr>\n",
       "  </thead>\n",
       "  <tbody>\n",
       "    <tr>\n",
       "      <th>0</th>\n",
       "      <td>A</td>\n",
       "      <td>0.104203</td>\n",
       "      <td>920301</td>\n",
       "    </tr>\n",
       "    <tr>\n",
       "      <th>1</th>\n",
       "      <td>B</td>\n",
       "      <td>0.104139</td>\n",
       "      <td>921000</td>\n",
       "    </tr>\n",
       "  </tbody>\n",
       "</table>\n",
       "</div>"
      ],
      "text/plain": [
       "  ab_group  retention_rate   users\n",
       "0        A        0.104203  920301\n",
       "1        B        0.104139  921000"
      ]
     },
     "execution_count": 15,
     "metadata": {},
     "output_type": "execute_result"
    }
   ],
   "source": [
    "retention_grouped = retention.groupby('ab_group')['retention_1'].agg(['mean', 'count']).reset_index()\n",
    "retention_grouped.columns = ['ab_group', 'retention_rate', 'users']\n",
    "retention_grouped\n"
   ]
  },
  {
   "cell_type": "code",
   "execution_count": 16,
   "id": "8042b131-b016-4518-9e1a-7097b91cb3c5",
   "metadata": {},
   "outputs": [
    {
     "data": {
      "image/png": "[encoded data removed]",
      "text/plain": [
       "<Figure size 640x480 with 1 Axes>"
      ]
     },
     "metadata": {},
     "output_type": "display_data"
    }
   ],
   "source": [
    "import matplotlib.pyplot as plt\n",
    "\n",
    "plt.bar(retention_grouped['ab_group'], retention_grouped['retention_rate'] * 100)\n",
    "plt.title('Retention-1 по группам A/B (%)')\n",
    "plt.ylabel('Retention %')\n",
    "plt.xlabel('A/B group')\n",
    "plt.ylim(0, 100)\n",
    "plt.show()\n"
   ]
  },
  {
   "cell_type": "markdown",
   "id": "4166ad14-9b1e-47fa-9b00-07bde1bd6cb8",
   "metadata": {},
   "source": [
    "## 3. Продуктовая воронка (funnel)\n"
   ]
  },
  {
   "cell_type": "code",
   "execution_count": 17,
   "id": "a2b0ab3f-8bef-44eb-b3f0-90469b968e3a",
   "metadata": {
    "scrolled": true
   },
   "outputs": [
    {
     "name": "stdout",
     "output_type": "stream",
     "text": [
      "p-value: 0.88717\n"
     ]
    }
   ],
   "source": [
    "from scipy.stats import ttest_ind, mannwhitneyu\n",
    "\n",
    "group_A = retention[retention['ab_group'] == 'A']['retention_1']\n",
    "group_B = retention[retention['ab_group'] == 'B']['retention_1']\n",
    "\n",
    "# U-тест (безопасный для не-нормальных распределений)\n",
    "stat, pval = mannwhitneyu(group_A, group_B)\n",
    "print(f\"p-value: {pval:.5f}\")\n"
   ]
  },
  {
   "cell_type": "code",
   "execution_count": 18,
   "id": "0a61d7c6-9815-4013-b30f-02301e775e62",
   "metadata": {},
   "outputs": [],
   "source": [
    "returned_day_7 = df[df['days_since_first'] == 7][['user_id']].drop_duplicates()\n",
    "returned_day_7['retention_7'] = 1\n",
    "\n",
    "# Аналогично соединяю с first_day_users и считаю retention_7 по группам\n"
   ]
  },
  {
   "cell_type": "code",
   "execution_count": 19,
   "id": "aa887e68-d0da-4909-aa2e-07d980daa91c",
   "metadata": {},
   "outputs": [
    {
     "data": {
      "image/png": "[encoded data removed]",
      "text/plain": [
       "<Figure size 640x480 with 1 Axes>"
      ]
     },
     "metadata": {},
     "output_type": "display_data"
    }
   ],
   "source": [
    "funnel = df.groupby('event_type')['user_id'].nunique().reset_index()\n",
    "funnel.columns = ['event_type', 'unique_users']\n",
    "\n",
    "import seaborn as sns\n",
    "sns.barplot(data=funnel, x='event_type', y='unique_users')\n",
    "plt.title('Продуктовая воронка (уникальные пользователи)')\n",
    "plt.show()\n"
   ]
  },
  {
   "cell_type": "code",
   "execution_count": 20,
   "id": "a6c943fc-fe6d-47e2-a28d-1ae785135238",
   "metadata": {},
   "outputs": [
    {
     "data": {
      "text/html": [
       "<div>\n",
       "<style scoped>\n",
       "    .dataframe tbody tr th:only-of-type {\n",
       "        vertical-align: middle;\n",
       "    }\n",
       "\n",
       "    .dataframe tbody tr th {\n",
       "        vertical-align: top;\n",
       "    }\n",
       "\n",
       "    .dataframe thead th {\n",
       "        text-align: right;\n",
       "    }\n",
       "</style>\n",
       "<table border=\"1\" class=\"dataframe\">\n",
       "  <thead>\n",
       "    <tr style=\"text-align: right;\">\n",
       "      <th></th>\n",
       "      <th>ab_group</th>\n",
       "      <th>event_type</th>\n",
       "      <th>unique_users</th>\n",
       "    </tr>\n",
       "  </thead>\n",
       "  <tbody>\n",
       "    <tr>\n",
       "      <th>0</th>\n",
       "      <td>A</td>\n",
       "      <td>cart</td>\n",
       "      <td>98674</td>\n",
       "    </tr>\n",
       "    <tr>\n",
       "      <th>1</th>\n",
       "      <td>A</td>\n",
       "      <td>purchase</td>\n",
       "      <td>78080</td>\n",
       "    </tr>\n",
       "    <tr>\n",
       "      <th>2</th>\n",
       "      <td>A</td>\n",
       "      <td>view</td>\n",
       "      <td>920248</td>\n",
       "    </tr>\n",
       "    <tr>\n",
       "      <th>3</th>\n",
       "      <td>B</td>\n",
       "      <td>cart</td>\n",
       "      <td>98530</td>\n",
       "    </tr>\n",
       "    <tr>\n",
       "      <th>4</th>\n",
       "      <td>B</td>\n",
       "      <td>purchase</td>\n",
       "      <td>78269</td>\n",
       "    </tr>\n",
       "    <tr>\n",
       "      <th>5</th>\n",
       "      <td>B</td>\n",
       "      <td>view</td>\n",
       "      <td>920953</td>\n",
       "    </tr>\n",
       "  </tbody>\n",
       "</table>\n",
       "</div>"
      ],
      "text/plain": [
       "  ab_group event_type  unique_users\n",
       "0        A       cart         98674\n",
       "1        A   purchase         78080\n",
       "2        A       view        920248\n",
       "3        B       cart         98530\n",
       "4        B   purchase         78269\n",
       "5        B       view        920953"
      ]
     },
     "execution_count": 20,
     "metadata": {},
     "output_type": "execute_result"
    }
   ],
   "source": [
    "funnel_grouped = df.groupby(['ab_group', 'event_type'])['user_id'].nunique().reset_index()\n",
    "funnel_grouped.columns = ['ab_group', 'event_type', 'unique_users']\n",
    "funnel_grouped\n"
   ]
  },
  {
   "cell_type": "code",
   "execution_count": 21,
   "id": "8ee41384-86c2-4b03-86e2-dbdfcf09932d",
   "metadata": {},
   "outputs": [
    {
     "data": {
      "image/png": "[encoded data removed]",
      "text/plain": [
       "<Figure size 800x500 with 1 Axes>"
      ]
     },
     "metadata": {},
     "output_type": "display_data"
    }
   ],
   "source": [
    "# создаём cohort_date (у тебя это уже есть)\n",
    "df['cohort_date'] = df['first_event_time'].dt.date\n",
    "\n",
    "# рисуем график\n",
    "plt.figure(figsize=(8, 5))\n",
    "sns.barplot(data=funnel_grouped, x='event_type', y='unique_users', hue='ab_group')\n",
    "plt.title('Продуктовая воронка по группам A/B')\n",
    "plt.ylabel('Уникальные пользователи')\n",
    "plt.xlabel('Тип события')\n",
    "plt.show()\n"
   ]
  },
  {
   "cell_type": "markdown",
   "id": "1593152b-8f75-4ab1-ac7b-5686ddaad5c0",
   "metadata": {},
   "source": [
    "## 4. Когортный анализ Retention\n"
   ]
  },
  {
   "cell_type": "code",
   "execution_count": 22,
   "id": "9408d3df-c0e8-4171-b0e3-e362a90bca63",
   "metadata": {},
   "outputs": [],
   "source": [
    "df['cohort_date'] = df['first_event_time'].dt.date\n"
   ]
  },
  {
   "cell_type": "code",
   "execution_count": 23,
   "id": "a8e430a3-ecec-4c52-8a52-b8c34f2b7824",
   "metadata": {},
   "outputs": [],
   "source": [
    "cohort_pivot = df.groupby(['cohort_date', 'days_since_first'])['user_id'].nunique().reset_index()\n",
    "cohort_pivot = cohort_pivot.pivot(index='cohort_date', columns='days_since_first', values='user_id')\n"
   ]
  },
  {
   "cell_type": "code",
   "execution_count": 24,
   "id": "e02d1ebb-438e-4e51-9ae6-600b6c68365c",
   "metadata": {},
   "outputs": [],
   "source": [
    "cohort_size = cohort_pivot[0]\n",
    "retention_matrix = cohort_pivot.divide(cohort_size, axis=0)\n"
   ]
  },
  {
   "cell_type": "code",
   "execution_count": 25,
   "id": "2731aeb9-be11-4cf0-a942-7749d813e981",
   "metadata": {},
   "outputs": [
    {
     "data": {
      "image/png": "[encoded data removed]",
      "text/plain": [
       "<Figure size 1200x600 with 2 Axes>"
      ]
     },
     "metadata": {},
     "output_type": "display_data"
    }
   ],
   "source": [
    "import seaborn as sns\n",
    "plt.figure(figsize=(12, 6))\n",
    "sns.heatmap(retention_matrix.iloc[:, :8], annot=True, fmt=\".0%\", cmap=\"Blues\")\n",
    "plt.title(\"Когортный анализ Retention (доли возвратов)\")\n",
    "plt.ylabel(\"Когорта (дата первого визита)\")\n",
    "plt.xlabel(\"День с момента регистрации\")\n",
    "plt.show()\n"
   ]
  },
  {
   "cell_type": "code",
   "execution_count": 26,
   "id": "3e7541ba-430f-4b07-ac5a-27faac8116d5",
   "metadata": {},
   "outputs": [],
   "source": [
    "# Кто вернулся на 7-й день\n",
    "returned_day_7 = df[df['days_since_first'] == 7][['user_id']].drop_duplicates()\n",
    "returned_day_7['retention_7'] = 1\n",
    "\n",
    "# Все, кто появился в 0-й день (первая активность)\n",
    "target_df = df[df['days_since_first'] == 0][['user_id']].drop_duplicates()\n",
    "target_df = target_df.merge(returned_day_7, on='user_id', how='left')\n",
    "target_df['retention_7'] = target_df['retention_7'].fillna(0)\n"
   ]
  },
  {
   "cell_type": "code",
   "execution_count": 27,
   "id": "da551da6-fa5d-40fc-b7f1-17d268840aef",
   "metadata": {},
   "outputs": [],
   "source": [
    "features = df[df['days_since_first'] <= 1].copy()\n",
    "\n",
    "# Кол-во действий каждого типа\n",
    "action_counts = features.groupby('user_id')['event_type'].value_counts().unstack().fillna(0)\n",
    "\n",
    "# Средняя цена\n",
    "avg_price = features.groupby('user_id')['price'].mean().rename('avg_price')\n",
    "\n",
    "# Уникальные категории\n",
    "unique_categories = features.groupby('user_id')['category_code'].nunique().rename('unique_categories')\n",
    "\n",
    "# Объединяем\n",
    "X = pd.concat([action_counts, avg_price, unique_categories], axis=1).reset_index()\n"
   ]
  },
  {
   "cell_type": "code",
   "execution_count": 28,
   "id": "9d8afb3e-1bc9-4b2a-bd3d-321c7838fbe4",
   "metadata": {},
   "outputs": [],
   "source": [
    "# Финальная склейка\n",
    "data = X.merge(target_df, on='user_id')\n",
    "\n",
    "# Подвыборка\n",
    "data_sample = data.sample(n=100_000, random_state=42)\n"
   ]
  },
  {
   "cell_type": "markdown",
   "id": "fa67fea6-4513-4c50-800a-4f130a0c7f23",
   "metadata": {},
   "source": [
    "## 5. Машинное обучение: прогноз удержания на 7 день\n"
   ]
  },
  {
   "cell_type": "code",
   "execution_count": 29,
   "id": "4e7299eb-5601-426e-9658-8ef817b64fe6",
   "metadata": {},
   "outputs": [
    {
     "name": "stdout",
     "output_type": "stream",
     "text": [
      "              precision    recall  f1-score   support\n",
      "\n",
      "         0.0       0.96      0.98      0.97     28719\n",
      "         1.0       0.05      0.03      0.04      1281\n",
      "\n",
      "    accuracy                           0.93     30000\n",
      "   macro avg       0.50      0.50      0.50     30000\n",
      "weighted avg       0.92      0.93      0.93     30000\n",
      "\n",
      "ROC AUC: 0.5856553360907307\n"
     ]
    }
   ],
   "source": [
    "from sklearn.ensemble import RandomForestClassifier\n",
    "from sklearn.model_selection import train_test_split\n",
    "from sklearn.metrics import classification_report, roc_auc_score\n",
    "\n",
    "X_train, X_test, y_train, y_test = train_test_split(\n",
    "    data_sample.drop(columns=['user_id', 'retention_7']),\n",
    "    data_sample['retention_7'],\n",
    "    test_size=0.3,\n",
    "    random_state=42\n",
    ")\n",
    "\n",
    "model = RandomForestClassifier(random_state=42)\n",
    "model.fit(X_train, y_train)\n",
    "\n",
    "y_pred = model.predict(X_test)\n",
    "y_proba = model.predict_proba(X_test)[:, 1]\n",
    "\n",
    "print(classification_report(y_test, y_pred))\n",
    "print(\"ROC AUC:\", roc_auc_score(y_test, y_proba))\n"
   ]
  },
  {
   "cell_type": "code",
   "execution_count": 30,
   "id": "4aa85272-e903-405e-8dfd-ef72ba32e293",
   "metadata": {
    "scrolled": true
   },
   "outputs": [
    {
     "data": {
      "image/png": "[encoded data removed]",
      "text/plain": [
       "<Figure size 800x500 with 1 Axes>"
      ]
     },
     "metadata": {},
     "output_type": "display_data"
    }
   ],
   "source": [
    "import seaborn as sns\n",
    "import matplotlib.pyplot as plt\n",
    "\n",
    "importances = pd.Series(model.feature_importances_, index=X_train.columns)\n",
    "importances.sort_values().plot(kind='barh', figsize=(8, 5))\n",
    "plt.title(\"Важность признаков (feature importance)\")\n",
    "plt.show()\n"
   ]
  },
  {
   "cell_type": "markdown",
   "id": "49f44a1f-69ff-409c-9767-6ba3e83d444f",
   "metadata": {},
   "source": [
    "## 6. Выводы\n",
    "\n",
    "На основе анализа поведения пользователей интернет-магазина были сделаны следующие выводы:\n",
    "\n",
    "**Продуктовая воронка** показала стандартное поведение: большинство пользователей только просматривают товары, и лишь небольшая доля добавляет товары в корзину и совершает покупку.\n",
    "\n",
    "**Retention** (возврат пользователей) на следующий день составляет около **13%**, что является ожидаемым показателем для e-commerce платформы. Retention через 7 дней — заметно ниже.\n",
    "\n",
    "**A/B тест** показал, что между группами A и B **нет статистически значимой разницы** по Retention (p-value > 0.05). Значит, гипотеза о различии между группами не подтвердилась.\n",
    "\n",
    "**Когортный анализ** показал ожидаемое снижение возвращаемости пользователей с течением времени. Это нормальное поведение.\n",
    "\n",
    "**ML-модель (Random Forest)** показала средний результат (ROC AUC ≈ 0.59). Наиболее важным фактором оказался **средний чек пользователя (avg_price)**, что логично: пользователи, покупающие дорогие товары, вероятно, более вовлечены.\n"
   ]
  },
  {
   "cell_type": "code",
   "execution_count": null,
   "id": "becfbc40-0f8d-4bb0-9cdf-bb73d25ac54b",
   "metadata": {},
   "outputs": [],
   "source": []
  }
 ],
 "metadata": {
  "kernelspec": {
   "display_name": "Python 3 (ipykernel)",
   "language": "python",
   "name": "python3"
  },
  "language_info": {
   "codemirror_mode": {
    "name": "ipython",
    "version": 3
   },
   "file_extension": ".py",
   "mimetype": "text/x-python",
   "name": "python",
   "nbconvert_exporter": "python",
   "pygments_lexer": "ipython3",
   "version": "3.12.2"
  }
 },
 "nbformat": 4,
 "nbformat_minor": 5
}
